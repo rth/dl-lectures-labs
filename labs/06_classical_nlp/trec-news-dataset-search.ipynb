{
 "cells": [
  {
   "cell_type": "markdown",
   "id": "6b209707",
   "metadata": {},
   "source": [
    "# Example dataset: BeIR-trec-news-generated-queries\n",
    "You can download the dataset at [BeIR-trec-news-generated-queries](https://huggingface.co/datasets/BeIR/trec-news-generated-queries)"
   ]
  },
  {
   "cell_type": "code",
   "execution_count": 1,
   "id": "40eae46f",
   "metadata": {},
   "outputs": [],
   "source": [
    "import pandas as pd\n",
    "import numpy as np\n",
    "from tqdm.notebook import tqdm"
   ]
  },
  {
   "cell_type": "code",
   "execution_count": 2,
   "id": "889e678f",
   "metadata": {},
   "outputs": [],
   "source": [
    "import datasets\n",
    "from datasets import load_dataset\n",
    "datasets.logging.set_verbosity_error()"
   ]
  },
  {
   "cell_type": "code",
   "execution_count": 3,
   "id": "b94845e8",
   "metadata": {},
   "outputs": [],
   "source": [
    "dataset = load_dataset(\"BeIR/trec-news-generated-queries\", split='train')"
   ]
  },
  {
   "cell_type": "code",
   "execution_count": 4,
   "id": "587c9bca",
   "metadata": {},
   "outputs": [
    {
     "data": {
      "text/plain": [
       "1760922"
      ]
     },
     "execution_count": 4,
     "metadata": {},
     "output_type": "execute_result"
    }
   ],
   "source": [
    "len(dataset)"
   ]
  },
  {
   "cell_type": "code",
   "execution_count": 10,
   "id": "9bd0700f",
   "metadata": {},
   "outputs": [],
   "source": [
    "subset = dataset\n",
    "ids, titles, texts, queries = subset['_id'], subset['title'], subset['text'], subset['query']"
   ]
  },
  {
   "cell_type": "markdown",
   "id": "3a78ab17",
   "metadata": {},
   "source": [
    "## Collect some stats about queries"
   ]
  },
  {
   "cell_type": "code",
   "execution_count": 11,
   "id": "c6ef4c89",
   "metadata": {},
   "outputs": [],
   "source": [
    "from collections import defaultdict, Counter"
   ]
  },
  {
   "cell_type": "code",
   "execution_count": 12,
   "id": "fc78c820",
   "metadata": {},
   "outputs": [],
   "source": [
    "Q = pd.Series(dict(Counter(queries).most_common()))"
   ]
  },
  {
   "cell_type": "code",
   "execution_count": 14,
   "id": "ac0c8a61",
   "metadata": {},
   "outputs": [
    {
     "data": {
      "text/plain": [
       "who is wsu                         696\n",
       "what is null                       521\n",
       "what university is wsu             307\n",
       "who is the speaker of the house    252\n",
       "what is wsu                        246\n",
       "where is wsu                       223\n",
       "who is the governor of maryland    204\n",
       "which university is wsu            203\n",
       "who is ted cruz                    198\n",
       "who is the mayor of dc             198\n",
       "who is marco rubio                 174\n",
       "what is the weather in dc          173\n",
       "happy hour roundup                 172\n",
       "weather in dc                      171\n",
       "what state is wsu                  171\n",
       "weather in washington dc           168\n",
       "who is wsu?                        168\n",
       "who is kellyanne conway            162\n",
       "weather in dc today                162\n",
       "who is trump's campaign manager    158\n",
       "dtype: int64"
      ]
     },
     "execution_count": 14,
     "metadata": {},
     "output_type": "execute_result"
    }
   ],
   "source": [
    "Q.sort_values(ascending=False).head(20)"
   ]
  },
  {
   "cell_type": "markdown",
   "id": "4ad7980a",
   "metadata": {},
   "source": [
    "## Inspect queries"
   ]
  },
  {
   "cell_type": "code",
   "execution_count": 15,
   "id": "2fe4679f",
   "metadata": {},
   "outputs": [],
   "source": [
    "def query_indexes(query):\n",
    "    return [i for i, x in enumerate(queries) if x == query]\n",
    "def get_titles(indexes):\n",
    "    return [titles[i] for i in indexes]\n",
    "def get_texts(indexes):\n",
    "    return [texts[i] for i in indexes]"
   ]
  },
  {
   "cell_type": "code",
   "execution_count": 24,
   "id": "9695b88f",
   "metadata": {},
   "outputs": [
    {
     "name": "stdout",
     "output_type": "stream",
     "text": [
      "Coming up today in the D.C. region: **Taxicab colors:** There is a public meeting tonight on the uniform color scheme for taxis in the District. **Rare transplant:** A soldier who survived after losing all four limbs in Iraq has received a double-arm transplant at Johns Hopkins Hospital. Doctors at the hospital will hold a news briefing today to provide details of the operation. **Virginia Republicans:** A bill aimed at boosting GOP prospects of winning the White House is up for a committee vote today. ******Tumultuous temperatures:** Temps should climb into the 50s today, and the 60s tomorrow, but the mid-week warm-up won’t last long. **** \n",
      "\n",
      "Clouds, rain, fog and gloom undoubtedly have a place in autumn, but to many fans of fall, Friday came closer to the seasonal image. Blue skies — streaked and striped by white clouds, rather than draped in the gray of previous days — helped Friday seem like the week’s best representative of autumn. Not every leaf has turned, but plenty of them blazed red or yellow under a Friday sun that helped warm the afternoon to 75 degrees at Reagan National Airport. The combination seemed unique to mid- October — neither throwback to summer, nor foretaste of winter. It was more a mix of autumn’s traditional ingredients: golden brightness and lengthening shadow, with acorns underfoot. Perhaps Friday was particularly welcome at the end of a workweek lacking in the crisp clarity of the season. Thursday was fog, haze and light rain. Almost an inch and a half of rain soaked Washington on Wednesday. Tuesday’s high temperature reached 82, only five degrees below the record for Oct. 14. It was also humid e \n",
      "\n",
      "Today is a day to spend outside enjoying, especially if you were doing something unfortunate yesterday like working indoors. If you don’t notice much humidity, it could be the last time for a while, as it starts coming back to close the weekend and probably heads up more from there. I think we get through daylight hours Sunday without a ton to worry about rain wise, but we’ll need to watch the timing of a storm system out west as we close in. **Today (Saturday):** Our generally beautiful weather continues under mostly sunny skies, though temperatures are a little too close to the high side of the “Nice Day” criteria of 85 to bring it along for the ride. You’ll probably still consider it a nice day though, and a number of spots may hit criteria! Highs are mostly in the mid-80s, or about 82-87 across the broader region. Winds are light from the northwest. _Confidence:_ Medium-High **Tonight:** Skies remain mostly clear, and with a last evening sans higher humidity you may see a few extra \n",
      "\n",
      "Winter’s revenge continues. And we can’t get sunshine without the chill, as winds continue to bug us through the day. At least tomorrow might not be too bad. Later Sunday and earlier Monday is when snowflakes could mix into our periods of rain. But don’t expect much more than slop, unless maybe you live at a higher elevation to the west. By Tuesday, all should calm as we begin to, finally, warm back up into the 50s again. **Today (Friday):** Substantial sunshine and wind. Unfortunately, yes, westerly winds are again noticeable today with some gusts around 25 mph possible. I know you are sick of temperatures well below average, but we’ve got them again with high temperatures generally eking into the mid-to-upper 40s. It’s gotta warm up some day, right? _Confidence:_ Medium-High    *[WSU]: Wayne State University **Tonight:** Is why we can’t claim the growing season has started yet. Low temperatures bottom out before sunrise in the mid-20s outside the Beltway, and may remain at or slightl \n",
      "\n",
      "D.C. and the local metro area is now less than a week from average highs of 60 or higher, but still no stretch like that is in the forecast. Instead, we’re more likely to keep our string of below normal days going for a while, and we’ve already seen 11 of those so far this month through yesterday. Perhaps it is no surprise that after just a hint today that _real spring_ might be in our future, we’re looking at another nuisance-type winter storm threat approaching tomorrow.    *[WSU]: Wayne State University **Today (Saturday):** Pretty decent, especially compared to some of those cold and raw days during the work week. Skies may feature clouds from time to time, with mostly sunny to partly cloudy conditions on average. Winds should be weaker compared to recent days, so highs ranging from near 50 to the mid-50s won’t feel too bad, particularly if you hang out in the sun. Those breezes are about 5-10 mph, with some higher gusts, from the northwest. _Confidence:_ Medium-High    *[WSU]: Way \n",
      "\n",
      "Snowstorms are tough, of course. But a stationary front lurking nearby can be just as challenging from a forecasting perspective. Get the location of the front wrong and your temperature forecast can be off by as much as 20 degrees. Today presents just such a challenge. Clouds and shower chances keep the forecast somewhat complicated into early Saturday, before high pressure simplifies things for Sunday. **Today (Wednesday):** A frontal boundary nearby makes the temperature forecast a tricky one. We’re leaning toward the front setting up far enough north and east to allow much of the area to reach highs in the 70s, except perhaps east toward the Bay and northeast toward Baltimore where highs might stall in the 60s. There’s some chance, though, the front sets up further south and west, which would cap most of the area below 70. Partly to mostly cloudy skies could produce a few scattered showers (30% chance). At the very least the air has somewhat of a humid feel. _Confidence:_ Low-Mediu \n",
      "\n",
      "**3:40 p.m. Update:** A slow-moving north-south line of showers made it into the metro area and will gradually exit from west to east during the late afternoon into early evening. Looks like we may see a lull in showers during the evening before chances increase again overnight or toward morning.    *[WSU]: Wayne State University We don’t go back-to-back with the spectacular spring weather this weekend, but today is far from a total loss despite increasing clouds and a shower chance. The potential for steadier showers and cooler temperatures threatens to put a damper on Monday, before shower chances trend a bit lower Tuesday and especially Wednesday, when sunshine attempts a comeback. Warmer air tries to work back in toward midweek as well, though there’s no sign of really warm stuff in our immediate future. **Today (Sunday):** Early sun quickly gives way to increasing clouds as low pressure approaches from the west. Associated showers approach as well, but struggle to make eastward pr \n",
      "\n",
      "Our new-found showery pattern is likely to run out of gas today but fuels back up for the weekend. 80s make a star appearance tomorrow. Thundershowers are likely to race into town Friday night, and Saturday stays on the showery side. Cheer on the pollen cleansing and garden watering showers! A cold front throws the checkered flag on clouds and rains Sunday and gives us a great finish to the weekend. **Today (Thursday):** The most likely time for a shower should be in the morning with a 40 percent chance diminishing to 20 percent in the afternoon. Clouds should thin out and allow a good deal of sun in, especially in the afternoon. That should lay the foundation for a run up in temps to the mid-to- upper 70s. _Confidence:_ Medium    *[WSU]: Wayne State University **Tonight:** The shower chances are minimal after sunset but clouds should come and go with nearly calm conditions. The evening will be superb with lower 70s and overnight lows range from lower 50s in the far out ‘burbs to near  \n",
      "\n",
      "A switch is about to go off, and our weather regime will shift from one that is unseasonably cool, and even frosty, to summerlike. Highs are stuck in the 60s the next two days, with lows in the 30s for many areas tonight.  But by Wednesday, we make a run well into the 70s and there may be no turning back.  From Thursday through the weekend, and perhaps beyond, highs reach the 80s.  Say goodbye to heating and hello air-conditioning. **Today (Monday):** Grab the fleeces and warm-up jackets this morning, with most of us waking up to temperatures around 40. The morning May sunshine gives temperatures a lift, but increasing afternoon clouds apply the brakes, with high temperatures leveling off in the upper 50s to low 60s. (These are 10-15 degrees below normal.) Winds are from the northwest at 10-15 mph. _Confidence:_ Medium-High    *[WSU]: Wayne State University **Tonight:** Evening clouds clear and winds diminish. With cold, high air pressure overhead, these are nearly ideal conditions for \n",
      "\n",
      "Get ready for our first real 90-degree day of the year. I say “real” because we did hit 91 in D.C. on April 10. But the 90s we’ll see over the next few days are a different breed thanks to a healthy dose of humidity. On the other hand, no need to over-hype this mini heat wave. We’re probably not talking record heat, and there’s nothing terribly unusual about a few 90-degree days in late May heading into June. **Today (Wednesday):** It feels every bit like summer today with partly sunny skies and noticeable humidity. Warm winds from the southwest at 5-15 mph help push highs to near 90, with a 20% chance of a passing shower or thundershower. _Confidence:_ Medium-High    *[WSU]: Wayne State University **Tonight:** We hold on to a 20% chance of an evening shower or thundershower both here in the D.C. area and up in Baltimore for those catching the Nats-O’s at Camden Yards. Otherwise, we’re looking at a rather muggy night with partly cloudy skies and lows in the mid-60s to low 70s (suburbs  \n",
      "\n"
     ]
    }
   ],
   "source": [
    "query = 'weather in dc today'\n",
    "q_i = query_indexes(query)\n",
    "for text in get_texts(q_i)[:10]:\n",
    "    print(text[:1000], '\\n')"
   ]
  },
  {
   "cell_type": "code",
   "execution_count": null,
   "id": "eee6dfa9",
   "metadata": {},
   "outputs": [],
   "source": []
  }
 ],
 "metadata": {
  "kernelspec": {
   "display_name": "crike",
   "language": "python",
   "name": "crike"
  },
  "language_info": {
   "codemirror_mode": {
    "name": "ipython",
    "version": 3
   },
   "file_extension": ".py",
   "mimetype": "text/x-python",
   "name": "python",
   "nbconvert_exporter": "python",
   "pygments_lexer": "ipython3",
   "version": "3.8.8"
  },
  "toc": {
   "base_numbering": 1,
   "nav_menu": {},
   "number_sections": true,
   "sideBar": true,
   "skip_h1_title": false,
   "title_cell": "Table of Contents",
   "title_sidebar": "Contents",
   "toc_cell": false,
   "toc_position": {},
   "toc_section_display": true,
   "toc_window_display": false
  }
 },
 "nbformat": 4,
 "nbformat_minor": 5
}
